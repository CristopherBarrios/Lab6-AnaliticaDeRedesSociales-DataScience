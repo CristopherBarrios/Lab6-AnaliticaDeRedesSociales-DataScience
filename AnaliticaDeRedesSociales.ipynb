{
 "cells": [
  {
   "cell_type": "markdown",
   "metadata": {},
   "source": [
    "<h1 style=\"text-align:center;\">Laboratorio 6</h1>\n",
    "<h4 style=\"text-align:center;\">Cristopher Barrios</h4>\n",
    "<h4 style=\"text-align:center;\">Mariana David</h4>\n",
    "<h5 style=\"text-align:center;\">8/9/2023</h5>"
   ]
  },
  {
   "cell_type": "markdown",
   "metadata": {},
   "source": [
    "## Pips"
   ]
  },
  {
   "cell_type": "code",
   "execution_count": null,
   "metadata": {},
   "outputs": [],
   "source": []
  },
  {
   "cell_type": "markdown",
   "metadata": {},
   "source": [
    "## Librerias"
   ]
  },
  {
   "cell_type": "code",
   "execution_count": null,
   "metadata": {},
   "outputs": [],
   "source": []
  },
  {
   "cell_type": "markdown",
   "metadata": {},
   "source": [
    "1. Descargue los archivos de datos \n"
   ]
  },
  {
   "cell_type": "markdown",
   "metadata": {},
   "source": [
    "2. Cargue los archivos de datos a R o a Python. \n"
   ]
  },
  {
   "cell_type": "markdown",
   "metadata": {},
   "source": [
    "3. Limpie y preprocese los datos. Describa de forma detallada las actividades de preprocesamiento \n",
    "que llevó a cabo. \n"
   ]
  },
  {
   "cell_type": "markdown",
   "metadata": {},
   "source": [
    "3.1.  Se pueden hacer tareas como: \n"
   ]
  },
  {
   "cell_type": "markdown",
   "metadata": {},
   "source": [
    "- Convertir el texto a mayúsculas o a minúsculas \n"
   ]
  },
  {
   "cell_type": "markdown",
   "metadata": {},
   "source": [
    "- Quitar los caracteres especiales que aparecen como “#”,”@” o los apóstrofes. \n"
   ]
  },
  {
   "cell_type": "markdown",
   "metadata": {},
   "source": [
    "- Quitar las url "
   ]
  },
  {
   "cell_type": "markdown",
   "metadata": {},
   "source": [
    "- Revisar si hay emoticones y quitarlos, ¿conviene quitarlos para este ejercicio? \n"
   ]
  },
  {
   "cell_type": "markdown",
   "metadata": {},
   "source": [
    "- Quitar los signos de puntuación \n"
   ]
  },
  {
   "cell_type": "markdown",
   "metadata": {},
   "source": [
    "- Quitar los artículos, preposiciones y conjunciones (stopwords) \n"
   ]
  },
  {
   "cell_type": "markdown",
   "metadata": {},
   "source": [
    "- Quitar números si considera que interferirán en los análisis. \n"
   ]
  },
  {
   "cell_type": "markdown",
   "metadata": {},
   "source": [
    "4. Haga un análisis exploratorio de los datos para entenderlos mejor, documente todos los análisis. \n",
    "Escriba una serie de insights que se puedan seguir investigando. \n"
   ]
  },
  {
   "cell_type": "markdown",
   "metadata": {},
   "source": [
    "5. Responda las preguntas que se le hacen en los ejercicios, las respuestas deben estar basadas en \n",
    "datos. \n"
   ]
  },
  {
   "cell_type": "markdown",
   "metadata": {},
   "source": [
    "6. Llegue a conclusiones sobre lo que descubrió."
   ]
  }
 ],
 "metadata": {
  "language_info": {
   "name": "python"
  },
  "orig_nbformat": 4
 },
 "nbformat": 4,
 "nbformat_minor": 2
}
